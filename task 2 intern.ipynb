{
 "cells": [
  {
   "cell_type": "code",
   "execution_count": 1,
   "id": "c18c20f7",
   "metadata": {},
   "outputs": [],
   "source": [
    "import pandas as pd\n",
    "import matplotlib.pyplot as plt\n",
    "import seaborn as sns"
   ]
  },
  {
   "cell_type": "code",
   "execution_count": 2,
   "id": "e46e086f",
   "metadata": {},
   "outputs": [
    {
     "data": {
      "text/html": [
       "<div>\n",
       "<style scoped>\n",
       "    .dataframe tbody tr th:only-of-type {\n",
       "        vertical-align: middle;\n",
       "    }\n",
       "\n",
       "    .dataframe tbody tr th {\n",
       "        vertical-align: top;\n",
       "    }\n",
       "\n",
       "    .dataframe thead th {\n",
       "        text-align: right;\n",
       "    }\n",
       "</style>\n",
       "<table border=\"1\" class=\"dataframe\">\n",
       "  <thead>\n",
       "    <tr style=\"text-align: right;\">\n",
       "      <th></th>\n",
       "      <th>PassengerId</th>\n",
       "      <th>Survived</th>\n",
       "    </tr>\n",
       "  </thead>\n",
       "  <tbody>\n",
       "    <tr>\n",
       "      <th>0</th>\n",
       "      <td>892</td>\n",
       "      <td>0</td>\n",
       "    </tr>\n",
       "    <tr>\n",
       "      <th>1</th>\n",
       "      <td>893</td>\n",
       "      <td>1</td>\n",
       "    </tr>\n",
       "    <tr>\n",
       "      <th>2</th>\n",
       "      <td>894</td>\n",
       "      <td>0</td>\n",
       "    </tr>\n",
       "    <tr>\n",
       "      <th>3</th>\n",
       "      <td>895</td>\n",
       "      <td>0</td>\n",
       "    </tr>\n",
       "    <tr>\n",
       "      <th>4</th>\n",
       "      <td>896</td>\n",
       "      <td>1</td>\n",
       "    </tr>\n",
       "  </tbody>\n",
       "</table>\n",
       "</div>"
      ],
      "text/plain": [
       "   PassengerId  Survived\n",
       "0          892         0\n",
       "1          893         1\n",
       "2          894         0\n",
       "3          895         0\n",
       "4          896         1"
      ]
     },
     "execution_count": 2,
     "metadata": {},
     "output_type": "execute_result"
    }
   ],
   "source": [
    "#######################task 2 TITANIC DATA\n",
    "df2=pd.read_csv(r'C:\\Users\\DELL\\Desktop\\intern\\task 2\\test.csv')\n",
    "df3=pd.read_csv(r'C:\\Users\\DELL\\Desktop\\intern\\task 2\\gender_submission.csv')\n",
    "df3.head()"
   ]
  },
  {
   "cell_type": "code",
   "execution_count": 3,
   "id": "27feae33",
   "metadata": {},
   "outputs": [
    {
     "data": {
      "text/html": [
       "<div>\n",
       "<style scoped>\n",
       "    .dataframe tbody tr th:only-of-type {\n",
       "        vertical-align: middle;\n",
       "    }\n",
       "\n",
       "    .dataframe tbody tr th {\n",
       "        vertical-align: top;\n",
       "    }\n",
       "\n",
       "    .dataframe thead th {\n",
       "        text-align: right;\n",
       "    }\n",
       "</style>\n",
       "<table border=\"1\" class=\"dataframe\">\n",
       "  <thead>\n",
       "    <tr style=\"text-align: right;\">\n",
       "      <th></th>\n",
       "      <th>PassengerId</th>\n",
       "      <th>Pclass</th>\n",
       "      <th>Name</th>\n",
       "      <th>Sex</th>\n",
       "      <th>Age</th>\n",
       "      <th>SibSp</th>\n",
       "      <th>Parch</th>\n",
       "      <th>Ticket</th>\n",
       "      <th>Fare</th>\n",
       "      <th>Cabin</th>\n",
       "      <th>Embarked</th>\n",
       "      <th>Survived</th>\n",
       "    </tr>\n",
       "  </thead>\n",
       "  <tbody>\n",
       "    <tr>\n",
       "      <th>0</th>\n",
       "      <td>892</td>\n",
       "      <td>3</td>\n",
       "      <td>Kelly, Mr. James</td>\n",
       "      <td>male</td>\n",
       "      <td>34.5</td>\n",
       "      <td>0</td>\n",
       "      <td>0</td>\n",
       "      <td>330911</td>\n",
       "      <td>7.8292</td>\n",
       "      <td>NaN</td>\n",
       "      <td>Q</td>\n",
       "      <td>0</td>\n",
       "    </tr>\n",
       "    <tr>\n",
       "      <th>1</th>\n",
       "      <td>893</td>\n",
       "      <td>3</td>\n",
       "      <td>Wilkes, Mrs. James (Ellen Needs)</td>\n",
       "      <td>female</td>\n",
       "      <td>47.0</td>\n",
       "      <td>1</td>\n",
       "      <td>0</td>\n",
       "      <td>363272</td>\n",
       "      <td>7.0000</td>\n",
       "      <td>NaN</td>\n",
       "      <td>S</td>\n",
       "      <td>1</td>\n",
       "    </tr>\n",
       "    <tr>\n",
       "      <th>2</th>\n",
       "      <td>894</td>\n",
       "      <td>2</td>\n",
       "      <td>Myles, Mr. Thomas Francis</td>\n",
       "      <td>male</td>\n",
       "      <td>62.0</td>\n",
       "      <td>0</td>\n",
       "      <td>0</td>\n",
       "      <td>240276</td>\n",
       "      <td>9.6875</td>\n",
       "      <td>NaN</td>\n",
       "      <td>Q</td>\n",
       "      <td>0</td>\n",
       "    </tr>\n",
       "    <tr>\n",
       "      <th>3</th>\n",
       "      <td>895</td>\n",
       "      <td>3</td>\n",
       "      <td>Wirz, Mr. Albert</td>\n",
       "      <td>male</td>\n",
       "      <td>27.0</td>\n",
       "      <td>0</td>\n",
       "      <td>0</td>\n",
       "      <td>315154</td>\n",
       "      <td>8.6625</td>\n",
       "      <td>NaN</td>\n",
       "      <td>S</td>\n",
       "      <td>0</td>\n",
       "    </tr>\n",
       "    <tr>\n",
       "      <th>4</th>\n",
       "      <td>896</td>\n",
       "      <td>3</td>\n",
       "      <td>Hirvonen, Mrs. Alexander (Helga E Lindqvist)</td>\n",
       "      <td>female</td>\n",
       "      <td>22.0</td>\n",
       "      <td>1</td>\n",
       "      <td>1</td>\n",
       "      <td>3101298</td>\n",
       "      <td>12.2875</td>\n",
       "      <td>NaN</td>\n",
       "      <td>S</td>\n",
       "      <td>1</td>\n",
       "    </tr>\n",
       "  </tbody>\n",
       "</table>\n",
       "</div>"
      ],
      "text/plain": [
       "   PassengerId  Pclass                                          Name     Sex  \\\n",
       "0          892       3                              Kelly, Mr. James    male   \n",
       "1          893       3              Wilkes, Mrs. James (Ellen Needs)  female   \n",
       "2          894       2                     Myles, Mr. Thomas Francis    male   \n",
       "3          895       3                              Wirz, Mr. Albert    male   \n",
       "4          896       3  Hirvonen, Mrs. Alexander (Helga E Lindqvist)  female   \n",
       "\n",
       "    Age  SibSp  Parch   Ticket     Fare Cabin Embarked  Survived  \n",
       "0  34.5      0      0   330911   7.8292   NaN        Q         0  \n",
       "1  47.0      1      0   363272   7.0000   NaN        S         1  \n",
       "2  62.0      0      0   240276   9.6875   NaN        Q         0  \n",
       "3  27.0      0      0   315154   8.6625   NaN        S         0  \n",
       "4  22.0      1      1  3101298  12.2875   NaN        S         1  "
      ]
     },
     "execution_count": 3,
     "metadata": {},
     "output_type": "execute_result"
    }
   ],
   "source": [
    "merge_data=pd.merge(df2,df3, on='PassengerId')\n",
    "merge_data.head()"
   ]
  },
  {
   "cell_type": "code",
   "execution_count": 4,
   "id": "5c380d51",
   "metadata": {},
   "outputs": [
    {
     "data": {
      "text/plain": [
       "<Axes: xlabel='Embarked', ylabel='count'>"
      ]
     },
     "execution_count": 4,
     "metadata": {},
     "output_type": "execute_result"
    },
    {
     "data": {
      "image/png": "[encoded data removed]",
      "text/plain": [
       "<Figure size 640x480 with 1 Axes>"
      ]
     },
     "metadata": {},
     "output_type": "display_data"
    }
   ],
   "source": [
    "#surived by boarding port\n",
    "sns.countplot(data=merge_data,x='Embarked',hue='Survived')"
   ]
  },
  {
   "cell_type": "code",
   "execution_count": 5,
   "id": "97c6ae6f",
   "metadata": {},
   "outputs": [
    {
     "data": {
      "text/plain": [
       "<Axes: xlabel='Pclass', ylabel='count'>"
      ]
     },
     "execution_count": 5,
     "metadata": {},
     "output_type": "execute_result"
    },
    {
     "data": {
      "image/png": "[encoded data removed]",
      "text/plain": [
       "<Figure size 640x480 with 1 Axes>"
      ]
     },
     "metadata": {},
     "output_type": "display_data"
    }
   ],
   "source": [
    "# Survied per class\n",
    "sns.countplot(data=merge_data,x='Pclass',hue='Survived')"
   ]
  },
  {
   "cell_type": "code",
   "execution_count": 6,
   "id": "4543314a",
   "metadata": {},
   "outputs": [
    {
     "name": "stdout",
     "output_type": "stream",
     "text": [
      "     index  PassengerId  Pclass  \\\n",
      "0        1          893       3   \n",
      "1        4          896       3   \n",
      "2        6          898       3   \n",
      "3        8          900       3   \n",
      "4       12          904       1   \n",
      "..     ...          ...     ...   \n",
      "147    409         1301       3   \n",
      "148    410         1302       3   \n",
      "149    411         1303       1   \n",
      "150    412         1304       3   \n",
      "151    414         1306       1   \n",
      "\n",
      "                                                Name     Sex   Age  SibSp  \\\n",
      "0                   Wilkes, Mrs. James (Ellen Needs)  female  47.0      1   \n",
      "1       Hirvonen, Mrs. Alexander (Helga E Lindqvist)  female  22.0      1   \n",
      "2                               Connolly, Miss. Kate  female  30.0      0   \n",
      "3          Abrahim, Mrs. Joseph (Sophie Halaut Easu)  female  18.0      0   \n",
      "4      Snyder, Mrs. John Pillsbury (Nelle Stevenson)  female  23.0      1   \n",
      "..                                               ...     ...   ...    ...   \n",
      "147                        Peacock, Miss. Treasteall  female   3.0      1   \n",
      "148                           Naughton, Miss. Hannah  female   NaN      0   \n",
      "149  Minahan, Mrs. William Edward (Lillian E Thorpe)  female  37.0      1   \n",
      "150                   Henriksson, Miss. Jenny Lovisa  female  28.0      0   \n",
      "151                     Oliva y Ocana, Dona. Fermina  female  39.0      0   \n",
      "\n",
      "     Parch              Ticket      Fare Cabin Embarked  Survived  \n",
      "0        0              363272    7.0000   NaN        S         1  \n",
      "1        1             3101298   12.2875   NaN        S         1  \n",
      "2        0              330972    7.6292   NaN        Q         1  \n",
      "3        0                2657    7.2292   NaN        C         1  \n",
      "4        0               21228   82.2667   B45        S         1  \n",
      "..     ...                 ...       ...   ...      ...       ...  \n",
      "147      1  SOTON/O.Q. 3101315   13.7750   NaN        S         1  \n",
      "148      0              365237    7.7500   NaN        Q         1  \n",
      "149      0               19928   90.0000   C78        Q         1  \n",
      "150      0              347086    7.7750   NaN        S         1  \n",
      "151      0            PC 17758  108.9000  C105        C         1  \n",
      "\n",
      "[152 rows x 13 columns]\n"
     ]
    }
   ],
   "source": [
    "#survival by Gender\n",
    "gend_survive=merge_data[(merge_data['Sex']=='female') & (merge_data['Survived']==1)].reset_index()\n",
    "print(gend_survive)"
   ]
  },
  {
   "cell_type": "code",
   "execution_count": 7,
   "id": "47db3768",
   "metadata": {},
   "outputs": [],
   "source": [
    "merge_data['Age'] = merge_data['Age'].replace([float('inf'), -float('inf')], 0).fillna(0).astype(int)"
   ]
  },
  {
   "cell_type": "code",
   "execution_count": 8,
   "id": "8a9d8080",
   "metadata": {},
   "outputs": [
    {
     "name": "stdout",
     "output_type": "stream",
     "text": [
      "     PassengerId  Pclass                                          Name  \\\n",
      "0            892       3                              Kelly, Mr. James   \n",
      "1            893       3              Wilkes, Mrs. James (Ellen Needs)   \n",
      "2            894       2                     Myles, Mr. Thomas Francis   \n",
      "3            895       3                              Wirz, Mr. Albert   \n",
      "4            896       3  Hirvonen, Mrs. Alexander (Helga E Lindqvist)   \n",
      "..           ...     ...                                           ...   \n",
      "413         1305       3                            Spector, Mr. Woolf   \n",
      "414         1306       1                  Oliva y Ocana, Dona. Fermina   \n",
      "415         1307       3                  Saether, Mr. Simon Sivertsen   \n",
      "416         1308       3                           Ware, Mr. Frederick   \n",
      "417         1309       3                      Peter, Master. Michael J   \n",
      "\n",
      "        Sex  Age  SibSp  Parch              Ticket      Fare Cabin Embarked  \\\n",
      "0      male   34      0      0              330911    7.8292   NaN        Q   \n",
      "1    female   47      1      0              363272    7.0000   NaN        S   \n",
      "2      male   62      0      0              240276    9.6875   NaN        Q   \n",
      "3      male   27      0      0              315154    8.6625   NaN        S   \n",
      "4    female   22      1      1             3101298   12.2875   NaN        S   \n",
      "..      ...  ...    ...    ...                 ...       ...   ...      ...   \n",
      "413    male    0      0      0           A.5. 3236    8.0500   NaN        S   \n",
      "414  female   39      0      0            PC 17758  108.9000  C105        C   \n",
      "415    male   38      0      0  SOTON/O.Q. 3101262    7.2500   NaN        S   \n",
      "416    male    0      0      0              359309    8.0500   NaN        S   \n",
      "417    male    0      1      1                2668   22.3583   NaN        C   \n",
      "\n",
      "     Survived  \n",
      "0           0  \n",
      "1           1  \n",
      "2           0  \n",
      "3           0  \n",
      "4           1  \n",
      "..        ...  \n",
      "413         0  \n",
      "414         1  \n",
      "415         0  \n",
      "416         0  \n",
      "417         0  \n",
      "\n",
      "[418 rows x 12 columns]\n"
     ]
    }
   ],
   "source": [
    "print(merge_data)"
   ]
  },
  {
   "cell_type": "code",
   "execution_count": 9,
   "id": "0bc88fc7",
   "metadata": {},
   "outputs": [
    {
     "data": {
      "image/png": "[encoded data removed]",
      "text/plain": [
       "<Figure size 1200x800 with 1 Axes>"
      ]
     },
     "metadata": {},
     "output_type": "display_data"
    }
   ],
   "source": [
    "#in plotting\n",
    "import pandas as pd\n",
    "import seaborn as sns\n",
    "import matplotlib.pyplot as plt\n",
    "\n",
    "# Define bins and labels\n",
    "bins2 = [0, 10, 20, 30, 40, 50, 60, 70, 80, 90, 100]  # Ensure bins are in increasing order\n",
    "labels2 = ['0-10', '11-20', '21-30', '31-40', '41-50', '51-60', '61-70', '71-80', '81-90', '91-100']\n",
    "\n",
    "# Create 'new_age' column based on bins\n",
    "merge_data['new_age'] = pd.cut(merge_data['Age'], bins=bins2, labels=labels2, right=False)\n",
    "\n",
    "# Group by 'new_age' and calculate the survival rate\n",
    "age_group_survival = merge_data.groupby('new_age')['Survived'].mean().reset_index()\n",
    "\n",
    "# Plot the survival rates\n",
    "plt.figure(figsize=(12, 8))\n",
    "sns.barplot(x='new_age', y='Survived', data=age_group_survival)\n",
    "plt.title('Survival Rate by Age Group')\n",
    "plt.xlabel('Age Group')\n",
    "plt.ylabel('Survival Rate')\n",
    "plt.xticks(rotation=45)  # Rotate x-axis labels if needed\n",
    "plt.show()"
   ]
  },
  {
   "cell_type": "code",
   "execution_count": null,
   "id": "a8f9cc20",
   "metadata": {},
   "outputs": [],
   "source": []
  },
  {
   "cell_type": "code",
   "execution_count": null,
   "id": "d9e049e1",
   "metadata": {},
   "outputs": [],
   "source": []
  },
  {
   "cell_type": "code",
   "execution_count": null,
   "id": "74cbf5b5",
   "metadata": {},
   "outputs": [],
   "source": []
  }
 ],
 "metadata": {
  "kernelspec": {
   "display_name": "Python 3 (ipykernel)",
   "language": "python",
   "name": "python3"
  },
  "language_info": {
   "codemirror_mode": {
    "name": "ipython",
    "version": 3
   },
   "file_extension": ".py",
   "mimetype": "text/x-python",
   "name": "python",
   "nbconvert_exporter": "python",
   "pygments_lexer": "ipython3",
   "version": "3.11.4"
  }
 },
 "nbformat": 4,
 "nbformat_minor": 5
}
